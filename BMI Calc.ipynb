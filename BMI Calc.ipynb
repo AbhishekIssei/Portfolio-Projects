{
 "cells": [
  {
   "cell_type": "markdown",
   "id": "f7a3514f",
   "metadata": {},
   "source": [
    "# BMI CALC\n"
   ]
  },
  {
   "cell_type": "code",
   "execution_count": null,
   "id": "884d9e80",
   "metadata": {},
   "outputs": [],
   "source": [
    "# BMI = (weight in pounds x 703) / (height in inches x height in inches)\n"
   ]
  },
  {
   "cell_type": "code",
   "execution_count": 13,
   "id": "05b2b4a1",
   "metadata": {},
   "outputs": [
    {
     "name": "stdout",
     "output_type": "stream",
     "text": [
      "Enter your name:Abi\n",
      "Enter your weight in pounds:170\n",
      "Enter your Height in inches:69\n",
      "25.101869355177485\n"
     ]
    }
   ],
   "source": [
    "name = input(\"Enter your name:\")\n",
    "\n",
    "Weight = int(input(\"Enter your weight in pounds:\"))\n",
    "\n",
    "Height = int(input(\"Enter your Height in inches:\"))\n",
    "\n",
    "BMI = (Weight * 703) / (Height * Height)\n",
    "\n",
    "print(BMI)"
   ]
  },
  {
   "cell_type": "code",
   "execution_count": 7,
   "id": "f9fac062",
   "metadata": {},
   "outputs": [
    {
     "data": {
      "text/plain": [
       "str"
      ]
     },
     "execution_count": 7,
     "metadata": {},
     "output_type": "execute_result"
    }
   ],
   "source": [
    "type(Weight)"
   ]
  },
  {
   "cell_type": "markdown",
   "id": "cb3af0d8",
   "metadata": {},
   "source": [
    "print(Weight)"
   ]
  },
  {
   "cell_type": "code",
   "execution_count": null,
   "id": "17961f9a",
   "metadata": {},
   "outputs": [],
   "source": [
    "Under 18.5\tUnderweight\tMinimal\n",
    "18.5 - 24.9\tNormal Weight\tMinimal\n",
    "25 - 29.9\tOverweight\tIncreased\n",
    "30 - 34.9\tObese\tHigh\n",
    "35 - 39.9\tSeverely Obese\tVery High\n",
    "40 and over\tMorbidly Obese\tExtremely High"
   ]
  },
  {
   "cell_type": "code",
   "execution_count": 16,
   "id": "c1e576a9",
   "metadata": {},
   "outputs": [
    {
     "name": "stdout",
     "output_type": "stream",
     "text": [
      "Abi, you are Overweight. you have increased health risk.\n"
     ]
    }
   ],
   "source": [
    "if BMI>0:\n",
    "    if(BMI<18.5):\n",
    "        print(name+\", you are Underweight. you have minimal health risk.\")\n",
    "    elif (BMI<=24.9):\n",
    "        print(name+\",  are Normal weight. you have minimal health risk.\")\n",
    "    elif (BMI<=29.9):\n",
    "        print(name+\", you are Overweight. you have increased health risk.\")\n",
    "    elif (BMI<=34.9):\n",
    "        print(name+\", you are Obese. you have high health risk.\")\n",
    "    elif (BMI<=39.9):\n",
    "        print(name+\", you are Severely Obese. you have very high health risk.\")\n",
    "    else:\n",
    "        print(name+\", you are Morbidly Obese. you have extremely high health risk.\")\n",
    "else:\n",
    "    print(\"Enter Valid Input\")"
   ]
  },
  {
   "cell_type": "code",
   "execution_count": null,
   "id": "455188bd",
   "metadata": {},
   "outputs": [],
   "source": []
  }
 ],
 "metadata": {
  "kernelspec": {
   "display_name": "Python 3 (ipykernel)",
   "language": "python",
   "name": "python3"
  },
  "language_info": {
   "codemirror_mode": {
    "name": "ipython",
    "version": 3
   },
   "file_extension": ".py",
   "mimetype": "text/x-python",
   "name": "python",
   "nbconvert_exporter": "python",
   "pygments_lexer": "ipython3",
   "version": "3.11.5"
  }
 },
 "nbformat": 4,
 "nbformat_minor": 5
}
